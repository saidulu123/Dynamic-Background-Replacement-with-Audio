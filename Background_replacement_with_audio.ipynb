{
 "cells": [
  {
   "cell_type": "code",
   "execution_count": 1,
   "metadata": {},
   "outputs": [],
   "source": [
    "import os\n",
    "import tempfile\n",
    "import shutil\n",
    "import subprocess\n",
    "from tqdm import tqdm\n",
    "from PIL import Image\n",
    "from io import BytesIO\n",
    "import numpy as np\n",
    "from rembg import remove\n",
    "import cv2"
   ]
  },
  {
   "cell_type": "code",
   "execution_count": 2,
   "metadata": {},
   "outputs": [],
   "source": [
    "# Function to check if CUDA is available\n",
    "def is_cuda_available() -> bool:\n",
    "    result = subprocess.run(['ffmpeg', '-hwaccels'], capture_output=True, text=True)\n",
    "    return 'cuda' in result.stdout"
   ]
  },
  {
   "cell_type": "code",
   "execution_count": 3,
   "metadata": {},
   "outputs": [],
   "source": [
    "# Function to extract frames from a video using FFmpeg\n",
    "def extract_frames(video_path: str, output_directory: str, fps: int) -> bool:\n",
    "    os.makedirs(output_directory, exist_ok=True)\n",
    "    command = [\n",
    "        'ffmpeg', '-hide_banner', '-loglevel', 'error', '-i', video_path,\n",
    "        '-vf', f'fps={fps}', os.path.join(output_directory, 'frame_%04d.png')\n",
    "    ]\n",
    "    result = subprocess.run(command)\n",
    "    return result.returncode == 0"
   ]
  },
  {
   "cell_type": "code",
   "execution_count": 4,
   "metadata": {},
   "outputs": [],
   "source": [
    "# Function to remove the background from an image\n",
    "def remove_background(image_path: str) -> Image.Image:\n",
    "    with open(image_path, 'rb') as img_file:\n",
    "        input_image = img_file.read()\n",
    "    output_image = remove(input_image)\n",
    "    return Image.open(BytesIO(output_image))"
   ]
  },
  {
   "cell_type": "code",
   "execution_count": 5,
   "metadata": {},
   "outputs": [],
   "source": [
    "# Function to overlay foreground image on background image\n",
    "def overlay_images(fg_image: Image.Image, bg_image: Image.Image) -> Image.Image:\n",
    "    fg_image = fg_image.convert(\"RGBA\")\n",
    "    bg_image = bg_image.convert(\"RGBA\")\n",
    "    # Resize the foreground to match the background\n",
    "    fg_image = fg_image.resize(bg_image.size, Image.LANCZOS)\n",
    "    combined = Image.alpha_composite(bg_image, fg_image)\n",
    "    return combined"
   ]
  },
  {
   "cell_type": "code",
   "execution_count": 6,
   "metadata": {},
   "outputs": [],
   "source": [
    "# Create temporary directories\n",
    "temp_dirs = [tempfile.mkdtemp() for _ in range(4)]\n",
    "fg_frames_dir, bg_frames_dir, masked_dir, processed_frames_dir = temp_dirs"
   ]
  },
  {
   "cell_type": "code",
   "execution_count": 7,
   "metadata": {},
   "outputs": [],
   "source": [
    "# Paths to input videos\n",
    "fg_video = \"E:\\\\My projects\\\\Dynamic-Rembg-music\\\\inputs\\\\foreground_video.mp4\"  # Placeholder, update with actual name\n",
    "bg_video = \"E:\\\\My projects\\\\Dynamic-Rembg-music\\\\inputs\\\\background_video.mp4\""
   ]
  },
  {
   "cell_type": "code",
   "execution_count": 9,
   "metadata": {},
   "outputs": [
    {
     "name": "stdout",
     "output_type": "stream",
     "text": [
      "True\n"
     ]
    }
   ],
   "source": [
    "# Check if CUDA is available and set the flag\n",
    "use_cuda = is_cuda_available()\n",
    "print(use_cuda)"
   ]
  },
  {
   "cell_type": "code",
   "execution_count": 10,
   "metadata": {},
   "outputs": [
    {
     "name": "stdout",
     "output_type": "stream",
     "text": [
      "Extracting foreground frames...\n",
      "Extracting background frames...\n"
     ]
    },
    {
     "data": {
      "text/plain": [
       "True"
      ]
     },
     "execution_count": 10,
     "metadata": {},
     "output_type": "execute_result"
    }
   ],
   "source": [
    "# Extract frames\n",
    "fps = 24  # Placeholder, update with actual fps if needed\n",
    "print(\"Extracting foreground frames...\")\n",
    "extract_frames(fg_video, fg_frames_dir, fps)\n",
    "print(\"Extracting background frames...\")\n",
    "extract_frames(bg_video, bg_frames_dir, fps)"
   ]
  },
  {
   "cell_type": "code",
   "execution_count": 11,
   "metadata": {},
   "outputs": [
    {
     "name": "stdout",
     "output_type": "stream",
     "text": [
      "Processing foreground frames to remove background...\n"
     ]
    },
    {
     "name": "stderr",
     "output_type": "stream",
     "text": [
      "Processing foreground frames: 100%|██████████| 241/241 [03:13<00:00,  1.24it/s]\n"
     ]
    }
   ],
   "source": [
    "# Process foreground frames to remove background\n",
    "fg_frame_files = sorted(os.listdir(fg_frames_dir))\n",
    "print(\"Processing foreground frames to remove background...\")\n",
    "for frame_file in tqdm(fg_frame_files, desc=\"Processing foreground frames\"):\n",
    "    fg_frame_path = os.path.join(fg_frames_dir, frame_file)\n",
    "    masked_image = remove_background(fg_frame_path)\n",
    "    masked_image.save(os.path.join(masked_dir, frame_file))"
   ]
  },
  {
   "cell_type": "code",
   "execution_count": 12,
   "metadata": {},
   "outputs": [
    {
     "name": "stdout",
     "output_type": "stream",
     "text": [
      "Combining frames...\n"
     ]
    },
    {
     "name": "stderr",
     "output_type": "stream",
     "text": [
      "Combining frames: 100%|█████████▉| 240/241 [02:09<00:00,  1.85it/s]\n"
     ]
    }
   ],
   "source": [
    "# Combine foreground and background frames\n",
    "bg_frame_files = sorted(os.listdir(bg_frames_dir))\n",
    "print(\"Combining frames...\")\n",
    "for fg_frame_file, bg_frame_file in tqdm(zip(fg_frame_files, bg_frame_files), desc=\"Combining frames\", total=len(fg_frame_files)):\n",
    "    fg_frame_path = os.path.join(masked_dir, fg_frame_file)\n",
    "    bg_frame_path = os.path.join(bg_frames_dir, bg_frame_file)\n",
    "    fg_image = Image.open(fg_frame_path)\n",
    "    bg_image = Image.open(bg_frame_path)\n",
    "    combined_image = overlay_images(fg_image, bg_image)\n",
    "    combined_image.save(os.path.join(processed_frames_dir, fg_frame_file))"
   ]
  },
  {
   "cell_type": "code",
   "execution_count": 13,
   "metadata": {},
   "outputs": [
    {
     "name": "stdout",
     "output_type": "stream",
     "text": [
      "Merging processed frames into final video...\n"
     ]
    },
    {
     "data": {
      "text/plain": [
       "CompletedProcess(args=['ffmpeg', '-hide_banner', '-loglevel', 'error', '-framerate', '24', '-i', 'C:\\\\Users\\\\SAIDUL~1\\\\AppData\\\\Local\\\\Temp\\\\tmphvnowp6p\\\\frame_%04d.png', '-c:v', 'libx264', '-pix_fmt', 'yuv420p', 'output_video.mp4'], returncode=0)"
      ]
     },
     "execution_count": 13,
     "metadata": {},
     "output_type": "execute_result"
    }
   ],
   "source": [
    "# Merge processed frames into final video\n",
    "output_video = 'output_video.mp4'  # Placeholder, update with desired output path\n",
    "print(\"Merging processed frames into final video...\")\n",
    "command = [\n",
    "    'ffmpeg', '-hide_banner', '-loglevel', 'error', '-framerate', str(fps),\n",
    "    '-i', os.path.join(processed_frames_dir, 'frame_%04d.png'),\n",
    "    '-c:v', 'libx264', '-pix_fmt', 'yuv420p', output_video\n",
    "]\n",
    "subprocess.run(command)"
   ]
  },
  {
   "cell_type": "code",
   "execution_count": 14,
   "metadata": {},
   "outputs": [
    {
     "name": "stdout",
     "output_type": "stream",
     "text": [
      "Extracting audio from the foreground video...\n"
     ]
    },
    {
     "data": {
      "text/plain": [
       "CompletedProcess(args=['ffmpeg', '-hide_banner', '-loglevel', 'error', '-i', 'E:\\\\My projects\\\\Dynamic-Rembg-music\\\\inputs - Copy\\\\foreground_video.mp4', '-vn', '-acodec', 'aac', '-y', 'foreground_audio.aac'], returncode=0)"
      ]
     },
     "execution_count": 14,
     "metadata": {},
     "output_type": "execute_result"
    }
   ],
   "source": [
    "# Extract audio from the foreground video\n",
    "audio_path = 'foreground_audio.aac'\n",
    "print(\"Extracting audio from the foreground video...\")\n",
    "command = [\n",
    "    'ffmpeg', '-hide_banner', '-loglevel', 'error', '-i', fg_video,\n",
    "    '-vn', '-acodec', 'aac', '-y', audio_path\n",
    "]\n",
    "subprocess.run(command)"
   ]
  },
  {
   "cell_type": "code",
   "execution_count": 15,
   "metadata": {},
   "outputs": [
    {
     "name": "stdout",
     "output_type": "stream",
     "text": [
      "Merging audio with the final output video...\n"
     ]
    },
    {
     "data": {
      "text/plain": [
       "CompletedProcess(args=['ffmpeg', '-hide_banner', '-loglevel', 'error', '-i', 'output_video.mp4', '-i', 'foreground_audio.aac', '-c:v', 'copy', '-c:a', 'aac', '-map', '0:v:0', '-map', '1:a:0', '-y', 'final_output_video.mp4'], returncode=0)"
      ]
     },
     "execution_count": 15,
     "metadata": {},
     "output_type": "execute_result"
    }
   ],
   "source": [
    "# Merge audio with the final output video\n",
    "final_output_video = 'final_output_video.mp4'\n",
    "print(\"Merging audio with the final output video...\")\n",
    "command = [\n",
    "    'ffmpeg', '-hide_banner', '-loglevel', 'error', '-i', output_video, '-i', audio_path,\n",
    "    '-c:v', 'copy', '-c:a', 'aac', '-map', '0:v:0', '-map', '1:a:0', '-y', final_output_video\n",
    "]\n",
    "subprocess.run(command)"
   ]
  },
  {
   "cell_type": "code",
   "execution_count": 16,
   "metadata": {},
   "outputs": [],
   "source": [
    "# Cleanup temporary audio file and directories\n",
    "os.remove(audio_path)\n",
    "for temp_dir in temp_dirs:\n",
    "    shutil.rmtree(temp_dir)"
   ]
  },
  {
   "cell_type": "code",
   "execution_count": 17,
   "metadata": {},
   "outputs": [
    {
     "name": "stdout",
     "output_type": "stream",
     "text": [
      "Process completed.\n"
     ]
    }
   ],
   "source": [
    "print(\"Process completed.\")"
   ]
  },
  {
   "cell_type": "code",
   "execution_count": null,
   "metadata": {},
   "outputs": [],
   "source": []
  },
  {
   "cell_type": "code",
   "execution_count": null,
   "metadata": {},
   "outputs": [],
   "source": []
  }
 ],
 "metadata": {
  "kernelspec": {
   "display_name": "global_env_for_all_projects",
   "language": "python",
   "name": "python3"
  },
  "language_info": {
   "codemirror_mode": {
    "name": "ipython",
    "version": 3
   },
   "file_extension": ".py",
   "mimetype": "text/x-python",
   "name": "python",
   "nbconvert_exporter": "python",
   "pygments_lexer": "ipython3",
   "version": "3.11.7"
  }
 },
 "nbformat": 4,
 "nbformat_minor": 2
}
